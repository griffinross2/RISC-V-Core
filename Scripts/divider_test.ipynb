{
 "cells": [
  {
   "cell_type": "markdown",
   "metadata": {},
   "source": [
    "After trying on the fpga, we have a file to read and check through"
   ]
  },
  {
   "cell_type": "code",
   "execution_count": null,
   "metadata": {},
   "outputs": [
    {
     "ename": "AssertionError",
     "evalue": "Failed for line 0: -2147461593 / 1073752900 -> -1 R -1073708693 != -1 R 44207",
     "output_type": "error",
     "traceback": [
      "\u001b[31m---------------------------------------------------------------------------\u001b[39m",
      "\u001b[31mAssertionError\u001b[39m                            Traceback (most recent call last)",
      "\u001b[36mCell\u001b[39m\u001b[36m \u001b[39m\u001b[32mIn[7]\u001b[39m\u001b[32m, line 41\u001b[39m\n\u001b[32m     38\u001b[39m         rem_exp = (rem_exp & \u001b[32m0xFFFF_FFFF\u001b[39m) - (\u001b[32m1\u001b[39m << \u001b[32m32\u001b[39m) \u001b[38;5;28;01mif\u001b[39;00m rem_exp >= (\u001b[32m1\u001b[39m << \u001b[32m31\u001b[39m) \u001b[38;5;28;01melse\u001b[39;00m rem_exp\n\u001b[32m     40\u001b[39m         \u001b[38;5;28;01massert\u001b[39;00m result == result_exp, \u001b[33mf\u001b[39m\u001b[33m\"\u001b[39m\u001b[33mFailed for line \u001b[39m\u001b[38;5;132;01m{\u001b[39;00mline_num\u001b[38;5;132;01m}\u001b[39;00m\u001b[33m: \u001b[39m\u001b[38;5;132;01m{\u001b[39;00mnum1\u001b[38;5;132;01m}\u001b[39;00m\u001b[33m / \u001b[39m\u001b[38;5;132;01m{\u001b[39;00mnum2\u001b[38;5;132;01m}\u001b[39;00m\u001b[33m -> \u001b[39m\u001b[38;5;132;01m{\u001b[39;00mresult\u001b[38;5;132;01m}\u001b[39;00m\u001b[33m R \u001b[39m\u001b[38;5;132;01m{\u001b[39;00mrem\u001b[38;5;132;01m}\u001b[39;00m\u001b[33m != \u001b[39m\u001b[38;5;132;01m{\u001b[39;00mresult_exp\u001b[38;5;132;01m}\u001b[39;00m\u001b[33m R \u001b[39m\u001b[38;5;132;01m{\u001b[39;00mrem_exp\u001b[38;5;132;01m}\u001b[39;00m\u001b[33m\"\u001b[39m\n\u001b[32m---> \u001b[39m\u001b[32m41\u001b[39m         \u001b[38;5;28;01massert\u001b[39;00m rem == rem_exp, \u001b[33mf\u001b[39m\u001b[33m\"\u001b[39m\u001b[33mFailed for line \u001b[39m\u001b[38;5;132;01m{\u001b[39;00mline_num\u001b[38;5;132;01m}\u001b[39;00m\u001b[33m: \u001b[39m\u001b[38;5;132;01m{\u001b[39;00mnum1\u001b[38;5;132;01m}\u001b[39;00m\u001b[33m / \u001b[39m\u001b[38;5;132;01m{\u001b[39;00mnum2\u001b[38;5;132;01m}\u001b[39;00m\u001b[33m -> \u001b[39m\u001b[38;5;132;01m{\u001b[39;00mresult\u001b[38;5;132;01m}\u001b[39;00m\u001b[33m R \u001b[39m\u001b[38;5;132;01m{\u001b[39;00mrem\u001b[38;5;132;01m}\u001b[39;00m\u001b[33m != \u001b[39m\u001b[38;5;132;01m{\u001b[39;00mresult_exp\u001b[38;5;132;01m}\u001b[39;00m\u001b[33m R \u001b[39m\u001b[38;5;132;01m{\u001b[39;00mrem_exp\u001b[38;5;132;01m}\u001b[39;00m\u001b[33m\"\u001b[39m\n\u001b[32m     43\u001b[39m         count += \u001b[32m1\u001b[39m\n\u001b[32m     45\u001b[39m \u001b[38;5;28mprint\u001b[39m(\u001b[33mf\u001b[39m\u001b[33m\"\u001b[39m\u001b[33mAll \u001b[39m\u001b[38;5;132;01m{\u001b[39;00mcount\u001b[38;5;132;01m}\u001b[39;00m\u001b[33m tests passed!\u001b[39m\u001b[33m\"\u001b[39m)\n",
      "\u001b[31mAssertionError\u001b[39m: Failed for line 0: -2147461593 / 1073752900 -> -1 R -1073708693 != -1 R 44207"
     ]
    }
   ],
   "source": [
    "import numpy as np\n",
    "\n",
    "def to_int(binary_str):\n",
    "    n = len(binary_str)\n",
    "    value = int(binary_str, 2)\n",
    "    if binary_str[0] == '1':\n",
    "        value -= (1 << n)\n",
    "    return value\n",
    "\n",
    "count = 0\n",
    "\n",
    "with open(\"log.txt\", \"r\") as f:\n",
    "    lines = f.readlines()\n",
    "    for line_num, line in enumerate(lines):\n",
    "        line = line.strip()\n",
    "\n",
    "        num1_end = line.index(\" / \")\n",
    "        num1 = to_int(line[:num1_end])\n",
    "\n",
    "        num2_start = line.index(\" / \") + 3\n",
    "        num2_end = line.index(\" = \")\n",
    "        num2 = to_int(line[num2_start:num2_end])\n",
    "\n",
    "        result_start = line.index(\" = \") + 3\n",
    "        result_end = line.index(\" R \")\n",
    "        result = to_int(line[result_start:result_end])\n",
    "\n",
    "        rem_start = line.index(\" R \") + 3\n",
    "        rem = to_int(line[rem_start:])\n",
    "\n",
    "        result_exp = int(np.trunc(num1 / num2))\n",
    "        result_exp = (result_exp & 0xFFFF_FFFF)\n",
    "\n",
    "        rem_exp = (num1 - result_exp * num2)\n",
    "        rem_exp = (rem_exp & 0xFFFF_FFFF)\n",
    "\n",
    "        result_exp = (result_exp & 0xFFFF_FFFF) - (1 << 32) if result_exp >= (1 << 31) else result_exp\n",
    "        rem_exp = (rem_exp & 0xFFFF_FFFF) - (1 << 32) if rem_exp >= (1 << 31) else rem_exp\n",
    "\n",
    "        assert result == result_exp, f\"Failed for line {line_num}: {num1} / {num2} -> {result} R {rem} != {result_exp} R {rem_exp}\"\n",
    "        assert rem == rem_exp, f\"Failed for line {line_num}: {num1} / {num2} -> {result} R {rem} != {result_exp} R {rem_exp}\"\n",
    "\n",
    "        count += 1\n",
    "\n",
    "print(f\"All {count} tests passed!\")"
   ]
  }
 ],
 "metadata": {
  "kernelspec": {
   "display_name": "Python 3",
   "language": "python",
   "name": "python3"
  },
  "language_info": {
   "codemirror_mode": {
    "name": "ipython",
    "version": 3
   },
   "file_extension": ".py",
   "mimetype": "text/x-python",
   "name": "python",
   "nbconvert_exporter": "python",
   "pygments_lexer": "ipython3",
   "version": "3.13.3"
  }
 },
 "nbformat": 4,
 "nbformat_minor": 2
}
