{
 "cells": [
  {
   "cell_type": "markdown",
   "metadata": {},
   "source": [
    "Here I try to understand a modified booth multiplier by working through one."
   ]
  },
  {
   "cell_type": "code",
   "execution_count": 128,
   "metadata": {},
   "outputs": [
    {
     "name": "stdout",
     "output_type": "stream",
     "text": [
      "Multiplicand: 111110001\n",
      "Multiplier: 000001010\n"
     ]
    }
   ],
   "source": [
    "import numpy as np\n",
    "\n",
    "M = -15     # Multiplicand\n",
    "R = 10      # Multiplier\n",
    "\n",
    "print(\"Multiplicand: \" + np.binary_repr(M, width=9))\n",
    "print(\"Multiplier: \" + np.binary_repr(R, width=9))"
   ]
  },
  {
   "cell_type": "markdown",
   "metadata": {},
   "source": [
    "First we need to recode the multiplier by adding a 0 after the LSB, taking adjoining sets of three bits and converting to -2 to 2. The recoding happens according to this function."
   ]
  },
  {
   "cell_type": "code",
   "execution_count": 129,
   "metadata": {},
   "outputs": [
    {
     "name": "stdout",
     "output_type": "stream",
     "text": [
      "000 -> 0\n",
      "001 -> +1\n",
      "010 -> +1\n",
      "011 -> +2\n",
      "100 -> -2\n",
      "101 -> -1\n",
      "110 -> -1\n",
      "111 -> 0\n"
     ]
    }
   ],
   "source": [
    "def recode_bits(bits):\n",
    "    match bits:\n",
    "        case '000':\n",
    "            return '0'\n",
    "        case '001' | '010':\n",
    "            return '+1'\n",
    "        case '011':\n",
    "            return '+2'\n",
    "        case '100':\n",
    "            return '-2'\n",
    "        case '101' | '110':\n",
    "            return '-1'\n",
    "        case '111':\n",
    "            return '0'\n",
    "    return 'error'\n",
    "\n",
    "for i in range(8):\n",
    "    bits = np.binary_repr(i, width=3)\n",
    "    print(f\"{bits} -> {recode_bits(bits)}\")"
   ]
  },
  {
   "cell_type": "markdown",
   "metadata": {},
   "source": [
    "We'll add the lower 0 to the multiplier and split it up, converting it as we go"
   ]
  },
  {
   "cell_type": "code",
   "execution_count": 130,
   "metadata": {},
   "outputs": [
    {
     "name": "stdout",
     "output_type": "stream",
     "text": [
      "0 0 +1 -1 -2 \n"
     ]
    }
   ],
   "source": [
    "def prep_multiplier(r):\n",
    "    result = ''\n",
    "\n",
    "    r_str = np.binary_repr(r, width=9)\n",
    "    r_str = r_str + '0'\n",
    "\n",
    "    while (len(r_str) > 2):\n",
    "        # Take the last 3 bits\n",
    "        bits = r_str[-3:]\n",
    "        # Recode the bits\n",
    "        recode = recode_bits(bits)\n",
    "        # Prepend the recode to the result\n",
    "        result = recode + ' ' + result\n",
    "        # Remove the last 2 bits from r_str\n",
    "        r_str = r_str[:-2]\n",
    "    \n",
    "    # If there are any bits left, extend the multiplier and recode them\n",
    "    if len(r_str) == 2:\n",
    "        bits = r_str[-2] + r_str[-2:]\n",
    "        recode = recode_bits(bits)\n",
    "        result = recode + ' ' + result\n",
    "\n",
    "    elif (len(r_str) == 1):\n",
    "        bits = r_str[-1] + r_str[-1] + r_str[-1:]\n",
    "        recode = recode_bits(bits)\n",
    "        result = recode + ' ' + result\n",
    "\n",
    "    return result\n",
    "\n",
    "print(prep_multiplier(R))"
   ]
  },
  {
   "cell_type": "markdown",
   "metadata": {},
   "source": [
    "Now we need to apply each operation to the product using the following algorithm. Each recoded symbol is applied to odd bits of the multiplicand to create a partial product. For example, if the symbol is -1, the two's complement of the multiplicand is the partial product. If the symbol is +2, the multiplicand is left-shifted by 1 to create the partial product. All products must be sign-extended to 2*N (16 in our case)."
   ]
  },
  {
   "cell_type": "code",
   "execution_count": 131,
   "metadata": {},
   "outputs": [
    {
     "name": "stdout",
     "output_type": "stream",
     "text": [
      "00000000000011110\n",
      "00000000000111100\n",
      "11111111100010000\n",
      "00000000000000000\n",
      "00000000000000000\n"
     ]
    }
   ],
   "source": [
    "def generate_partial_products(m, r_coded):\n",
    "    # Create a list of partial products\n",
    "    partial_products = []\n",
    "\n",
    "    # Iterate through the recoded multiplier backwards\n",
    "    r_coded_list = r_coded.split(' ')\n",
    "    r_coded_list = [x for x in r_coded_list if x.strip() != '']\n",
    "    for i in range(len(r_coded_list)-1, -1, -1):\n",
    "        # Get the recoded bit\n",
    "        recode = r_coded_list[i]\n",
    "\n",
    "        partial_product = 0\n",
    "\n",
    "        # Depending on the recode, generate the partial product\n",
    "        if recode == '0':\n",
    "            partial_product = 0\n",
    "        elif recode == '+1':\n",
    "            partial_product = m\n",
    "        elif recode == '+2':\n",
    "            partial_product = m << 1\n",
    "        elif recode == '-1':\n",
    "            partial_product = -m\n",
    "        elif recode == '-2':\n",
    "            partial_product = -(m << 1)\n",
    "        \n",
    "        # Append the partial product to the list\n",
    "        partial_products.append(np.binary_repr(partial_product, width=17))\n",
    "\n",
    "        # Shift the multiplicand for the next iteration\n",
    "        m = m << 2\n",
    "\n",
    "    return partial_products\n",
    "\n",
    "pp = generate_partial_products(M, prep_multiplier(R))\n",
    "for i in range(len(pp)):\n",
    "    print(pp[i])"
   ]
  },
  {
   "cell_type": "markdown",
   "metadata": {},
   "source": [
    "Now that we have the partial products, all we have to do is add them"
   ]
  },
  {
   "cell_type": "code",
   "execution_count": 132,
   "metadata": {},
   "outputs": [
    {
     "name": "stdout",
     "output_type": "stream",
     "text": [
      "Total: 11111111101101010\n",
      "Total: -150\n"
     ]
    }
   ],
   "source": [
    "def add_partial_products(partial_products):\n",
    "    # Initialize the sum\n",
    "    total = 0\n",
    "\n",
    "    # Iterate through the partial products and add them to the total\n",
    "    for pp in partial_products:\n",
    "        n = len(pp)\n",
    "        value = int(pp, 2)\n",
    "        if pp[0] == '1':\n",
    "            value -= (1 << n)\n",
    "            \n",
    "        total += value\n",
    "\n",
    "    return total\n",
    "\n",
    "total = add_partial_products(pp)\n",
    "print(\"Total: \" + np.binary_repr(total, width=17))\n",
    "print(\"Total: \" + str(total))"
   ]
  },
  {
   "cell_type": "markdown",
   "metadata": {},
   "source": [
    "Voila, 10 times -15 equals 150! Now lets try it for all 65536 combinations of 8-bit numbers."
   ]
  },
  {
   "cell_type": "code",
   "execution_count": 133,
   "metadata": {},
   "outputs": [
    {
     "name": "stdout",
     "output_type": "stream",
     "text": [
      "All tests passed!\n"
     ]
    }
   ],
   "source": [
    "for m in range(-128, 128):\n",
    "    for r in range(-128, 128):\n",
    "        pp = generate_partial_products(m, prep_multiplier(r))\n",
    "        total = add_partial_products(pp)\n",
    "        assert total == m * r, f\"Failed for {m} * {r}: {total} != {m * r}\"\n",
    "\n",
    "print(\"All tests passed!\")"
   ]
  },
  {
   "cell_type": "markdown",
   "metadata": {},
   "source": [
    "Lets try with unsigned numbers"
   ]
  },
  {
   "cell_type": "code",
   "execution_count": 134,
   "metadata": {},
   "outputs": [
    {
     "name": "stdout",
     "output_type": "stream",
     "text": [
      "All tests passed!\n"
     ]
    }
   ],
   "source": [
    "for m in range(0, 256):\n",
    "    for r in range(0, 256):\n",
    "        pp = generate_partial_products(m, prep_multiplier(r))\n",
    "        total = add_partial_products(pp)\n",
    "        assert total == m * r, f\"Failed for {m} * {r}: {total} != {m * r}\"\n",
    "\n",
    "print(\"All tests passed!\")"
   ]
  },
  {
   "cell_type": "markdown",
   "metadata": {},
   "source": [
    "After trying on the fpga, we have a file to read and check through"
   ]
  },
  {
   "cell_type": "code",
   "execution_count": 147,
   "metadata": {},
   "outputs": [
    {
     "name": "stdout",
     "output_type": "stream",
     "text": [
      "All 16221 tests passed!\n"
     ]
    }
   ],
   "source": [
    "def to_int(binary_str):\n",
    "    n = len(binary_str)\n",
    "    value = int(binary_str, 2)\n",
    "    if binary_str[0] == '1':\n",
    "        value -= (1 << n)\n",
    "    return value\n",
    "\n",
    "count = 0\n",
    "\n",
    "with open(\"log.txt\", \"r\") as f:\n",
    "    lines = f.readlines()\n",
    "    for line_num, line in enumerate(lines):\n",
    "        line = line.strip()\n",
    "\n",
    "        num1_end = line.index(\" * \")\n",
    "        num1 = to_int(line[:num1_end])\n",
    "\n",
    "        num2_start = line.index(\" * \") + 3\n",
    "        num2_end = line.index(\" = \")\n",
    "        num2 = to_int(line[num2_start:num2_end])\n",
    "\n",
    "        result_start = line.index(\" = \") + 3\n",
    "        result = to_int(line[result_start:])\n",
    "\n",
    "        result_exp = (num1 * num2)\n",
    "        result_exp = (result_exp & 0xFFFF_FFFF)\n",
    "\n",
    "        result_exp = (result_exp & 0xFFFF_FFFF) - (1 << 32) if result_exp >= (1 << 31) else result_exp\n",
    "\n",
    "        assert result == result_exp, f\"Failed for line {line_num}: {num1} * {num2} -> {result} != {result_exp}\"\n",
    "\n",
    "        count += 1\n",
    "\n",
    "print(f\"All {count} tests passed!\")"
   ]
  }
 ],
 "metadata": {
  "kernelspec": {
   "display_name": "Python 3",
   "language": "python",
   "name": "python3"
  },
  "language_info": {
   "codemirror_mode": {
    "name": "ipython",
    "version": 3
   },
   "file_extension": ".py",
   "mimetype": "text/x-python",
   "name": "python",
   "nbconvert_exporter": "python",
   "pygments_lexer": "ipython3",
   "version": "3.13.3"
  }
 },
 "nbformat": 4,
 "nbformat_minor": 2
}
